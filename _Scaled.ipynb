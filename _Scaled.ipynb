{
 "cells": [
  {
   "cell_type": "markdown",
   "id": "9d3905ca",
   "metadata": {},
   "source": [
    "# Water Potability Class Imbalance Analysis (with Scaling)"
   ]
  },
  {
   "cell_type": "code",
   "execution_count": 1,
   "id": "3e69491b",
   "metadata": {},
   "outputs": [
    {
     "name": "stderr",
     "output_type": "stream",
     "text": [
      "/tmp/ipykernel_1206/3161740821.py:1: DeprecationWarning: \n",
      "Pyarrow will become a required dependency of pandas in the next major release of pandas (pandas 3.0),\n",
      "(to allow more performant data types, such as the Arrow string type, and better interoperability with other libraries)\n",
      "but was not found to be installed on your system.\n",
      "If this would cause problems for you,\n",
      "please provide us feedback at https://github.com/pandas-dev/pandas/issues/54466\n",
      "        \n",
      "  import pandas as pd\n"
     ]
    }
   ],
   "source": [
    "import pandas as pd\n",
    "import numpy as np\n",
    "import matplotlib.pyplot as plt\n",
    "from sklearn.model_selection import train_test_split\n",
    "from sklearn.linear_model import LogisticRegression\n",
    "from sklearn.ensemble import RandomForestClassifier\n",
    "from sklearn.metrics import classification_report, roc_auc_score, confusion_matrix, ConfusionMatrixDisplay, roc_curve, auc\n",
    "from sklearn.preprocessing import StandardScaler\n",
    "from imblearn.over_sampling import SMOTE\n",
    "from collections import defaultdict\n",
    "import os"
   ]
  },
  {
   "cell_type": "code",
   "execution_count": 2,
   "id": "60f1566d",
   "metadata": {},
   "outputs": [],
   "source": [
    "df = pd.read_csv(\"KNN_Imputed_Water_Potability_Dataset__Full_View_.csv\")\n",
    "X = df.drop('Potability', axis=1)\n",
    "y = df['Potability']\n",
    "X_train, X_test, y_train, y_test = train_test_split(X, y, stratify=y, test_size=0.25, random_state=42)"
   ]
  },
  {
   "cell_type": "code",
   "execution_count": 3,
   "id": "b1ee977f",
   "metadata": {},
   "outputs": [],
   "source": [
    "scaler = StandardScaler()\n",
    "X_train_scaled = scaler.fit_transform(X_train)\n",
    "X_test_scaled = scaler.transform(X_test)"
   ]
  },
  {
   "cell_type": "code",
   "execution_count": 4,
   "id": "da139447",
   "metadata": {},
   "outputs": [],
   "source": [
    "class_0 = X_train_scaled[y_train == 0]\n",
    "class_1 = X_train_scaled[y_train == 1]\n",
    "class_1_upsampled = class_1[np.random.choice(len(class_1), len(class_0), replace=True)]\n",
    "X_over = np.vstack([class_0, class_1_upsampled])\n",
    "y_over = pd.Series([0]*len(class_0) + [1]*len(class_1_upsampled))\n",
    "\n",
    "smote = SMOTE(random_state=42)\n",
    "X_smote, y_smote = smote.fit_resample(X_train_scaled, y_train)\n",
    "\n",
    "resampling_methods = {\n",
    "    'Baseline': (X_train_scaled, y_train),\n",
    "    'Random Oversampling': (X_over, y_over),\n",
    "    'SMOTE': (X_smote, y_smote)\n",
    "}"
   ]
  },
  {
   "cell_type": "code",
   "execution_count": 7,
   "id": "21775622",
   "metadata": {},
   "outputs": [],
   "source": [
    "def evaluate_model(name, model, X_res, y_res, save_dir):\n",
    "    model.fit(X_res, y_res)\n",
    "    y_pred = model.predict(X_test_scaled)\n",
    "    y_prob = model.predict_proba(X_test_scaled)[:, 1]\n",
    "\n",
    "    report = classification_report(y_test, y_pred, output_dict=True)\n",
    "    auc_score = roc_auc_score(y_test, y_prob)\n",
    "\n",
    "    cm = confusion_matrix(y_test, y_pred)\n",
    "    disp = ConfusionMatrixDisplay(cm, display_labels=[\"Not Potable\", \"Potable\"])\n",
    "    disp.plot(cmap=\"Blues\")\n",
    "    plt.title(f\"{name} - Confusion Matrix\")\n",
    "    plt.savefig(f\"{save_dir}/{name}_conf_matrix.png\")\n",
    "    plt.close()\n",
    "\n",
    "    fpr, tpr, _ = roc_curve(y_test, y_prob)\n",
    "    plt.plot(fpr, tpr, label=f\"AUC = {auc_score:.2f}\")\n",
    "    plt.plot([0, 1], [0, 1], linestyle=\"--\")\n",
    "    plt.title(f\"{name} - ROC Curve\")\n",
    "    plt.xlabel(\"False Positive Rate\")\n",
    "    plt.ylabel(\"True Positive Rate\")\n",
    "    plt.legend()\n",
    "    plt.savefig(f\"{save_dir}/{name}_roc_curve.png\")\n",
    "    plt.close()\n",
    "\n",
    "    return report['1'], auc_score"
   ]
  },
  {
   "cell_type": "code",
   "execution_count": null,
   "id": "92c1befd",
   "metadata": {},
   "outputs": [],
   "source": [
    "for model in results:\n",
    "    for metric in metrics + ['AUC']:\n",
    "        plt.figure()\n",
    "        plt.bar(resampling_methods.keys(), results[model][metric])\n",
    "        plt.ylabel(metric)\n",
    "        plt.title(f\"{model} - {metric}\")\n",
    "        plt.savefig(f\"outputs/{model}_{metric}.png\")\n",
    "        plt.close()"
   ]
  }
 ],
 "metadata": {
  "kernelspec": {
   "display_name": "Python 3 (ipykernel)",
   "language": "python",
   "name": "python3"
  },
  "language_info": {
   "codemirror_mode": {
    "name": "ipython",
    "version": 3
   },
   "file_extension": ".py",
   "mimetype": "text/x-python",
   "name": "python",
   "nbconvert_exporter": "python",
   "pygments_lexer": "ipython3",
   "version": "3.10.12"
  }
 },
 "nbformat": 4,
 "nbformat_minor": 5
}
